{
  "nbformat": 4,
  "nbformat_minor": 0,
  "metadata": {
    "colab": {
      "name": "python_assignment_2.ipynb",
      "provenance": []
    },
    "kernelspec": {
      "name": "python3",
      "display_name": "Python 3"
    },
    "language_info": {
      "name": "python"
    }
  },
  "cells": [
    {
      "cell_type": "code",
      "execution_count": 21,
      "metadata": {
        "colab": {
          "base_uri": "https://localhost:8080/"
        },
        "id": "THez4YuAq_b7",
        "outputId": "e9bb549b-bd0c-42ab-af64-fc308e7fbcbf"
      },
      "outputs": [
        {
          "output_type": "stream",
          "name": "stdout",
          "text": [
            "6.2137119\n"
          ]
        }
      ],
      "source": [
        "## km to ml\n",
        "\n",
        "km = 10\n",
        "\n",
        "if type(km) == int:\n",
        "  ml = km * 0.62137119\n",
        "print(ml)"
      ]
    },
    {
      "cell_type": "code",
      "source": [
        "## convert Celsius to Fahrenheit\n",
        "\n",
        "c = 100\n",
        "if type(km) == int:\n",
        "  f = c * (9/5) + 32\n",
        "print(f)"
      ],
      "metadata": {
        "colab": {
          "base_uri": "https://localhost:8080/"
        },
        "id": "DYMC2OJZwAQd",
        "outputId": "05ad0cdf-7823-41ff-c118-cdb757180556"
      },
      "execution_count": 23,
      "outputs": [
        {
          "output_type": "stream",
          "name": "stdout",
          "text": [
            "212.0\n"
          ]
        }
      ]
    },
    {
      "cell_type": "code",
      "source": [
        "# display calendar?\n",
        "\n",
        "import calendar\n",
        "year = 2022\n",
        "month = 7\n",
        "\n",
        "current_month = calendar.month(year , month)\n",
        "print(current_month)\n"
      ],
      "metadata": {
        "colab": {
          "base_uri": "https://localhost:8080/"
        },
        "id": "S3vfcsaKwq-V",
        "outputId": "f26d8058-15be-4123-821d-ba553a87f8d2"
      },
      "execution_count": 24,
      "outputs": [
        {
          "output_type": "stream",
          "name": "stdout",
          "text": [
            "     July 2022\n",
            "Mo Tu We Th Fr Sa Su\n",
            "             1  2  3\n",
            " 4  5  6  7  8  9 10\n",
            "11 12 13 14 15 16 17\n",
            "18 19 20 21 22 23 24\n",
            "25 26 27 28 29 30 31\n",
            "\n"
          ]
        }
      ]
    },
    {
      "cell_type": "code",
      "source": [
        "# swap two variables without temp variable\n",
        "import swap\n",
        "a = 10\n",
        "b = 6\n",
        "print(\"before swap :- \",a,b)\n",
        "\n",
        "a , b = b , a\n",
        "print(\"after swap :- \",a,b)\n"
      ],
      "metadata": {
        "colab": {
          "base_uri": "https://localhost:8080/"
        },
        "id": "UHwwmfRtx5Yk",
        "outputId": "d9e7cfdd-f5a6-4056-96d5-9de3771aa0eb"
      },
      "execution_count": 31,
      "outputs": [
        {
          "output_type": "stream",
          "name": "stdout",
          "text": [
            "before swap :-  10 6\n",
            "after swap :-  6 10\n"
          ]
        }
      ]
    },
    {
      "cell_type": "code",
      "source": [
        ""
      ],
      "metadata": {
        "id": "huGLXdSxzqhm"
      },
      "execution_count": null,
      "outputs": []
    }
  ]
}