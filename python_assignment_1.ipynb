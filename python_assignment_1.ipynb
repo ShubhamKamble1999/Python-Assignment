{
  "nbformat": 4,
  "nbformat_minor": 0,
  "metadata": {
    "colab": {
      "name": "python_assignment_1.ipynb",
      "provenance": []
    },
    "kernelspec": {
      "name": "python3",
      "display_name": "Python 3"
    },
    "language_info": {
      "name": "python"
    }
  },
  "cells": [
    {
      "cell_type": "code",
      "execution_count": 4,
      "metadata": {
        "id": "THez4YuAq_b7"
      },
      "outputs": [],
      "source": [
        "## Hello world"
      ]
    },
    {
      "cell_type": "code",
      "source": [
        "print(\"hello world\")"
      ],
      "metadata": {
        "colab": {
          "base_uri": "https://localhost:8080/"
        },
        "id": "60DMXj43rooH",
        "outputId": "2713e24b-bd98-4742-c71b-0825f1a7a980"
      },
      "execution_count": 5,
      "outputs": [
        {
          "output_type": "stream",
          "name": "stdout",
          "text": [
            "hello world\n"
          ]
        }
      ]
    },
    {
      "cell_type": "code",
      "source": [
        "print( 5 + 5 , 5 / 5 )"
      ],
      "metadata": {
        "colab": {
          "base_uri": "https://localhost:8080/"
        },
        "id": "8wG6Xy73ry2u",
        "outputId": "01182fa4-8b51-44af-eba2-f30b60c60019"
      },
      "execution_count": 6,
      "outputs": [
        {
          "output_type": "stream",
          "name": "stdout",
          "text": [
            "10 1.0\n"
          ]
        }
      ]
    },
    {
      "cell_type": "code",
      "source": [
        "base = 2\n",
        "height = 10\n",
        "\n",
        "area = (1/2) * base * height\n",
        "print(\"Area of triangle :- \",area)"
      ],
      "metadata": {
        "colab": {
          "base_uri": "https://localhost:8080/"
        },
        "id": "1RmquwyVr-3V",
        "outputId": "e0079427-9872-4bc0-a4ac-958a2f83d3a9"
      },
      "execution_count": 8,
      "outputs": [
        {
          "output_type": "stream",
          "name": "stdout",
          "text": [
            "Area of triangle :-  10.0\n"
          ]
        }
      ]
    },
    {
      "cell_type": "code",
      "source": [
        "a = 1\n",
        "b = 2\n",
        "print(\"before swapping \", a , b )\n",
        "\n",
        "b = 1 \n",
        "a = 2\n",
        "\n",
        "print(\"after swapping \", a , b )"
      ],
      "metadata": {
        "colab": {
          "base_uri": "https://localhost:8080/"
        },
        "id": "xh569hJ2sWCu",
        "outputId": "022e3c1b-6260-46ca-bc40-0f4c80102e55"
      },
      "execution_count": 9,
      "outputs": [
        {
          "output_type": "stream",
          "name": "stdout",
          "text": [
            "before swapping  1 2\n",
            "after swapping  2 1\n"
          ]
        }
      ]
    },
    {
      "cell_type": "code",
      "source": [
        "import random"
      ],
      "metadata": {
        "id": "LndUoBu1swDO"
      },
      "execution_count": 12,
      "outputs": []
    },
    {
      "cell_type": "code",
      "source": [
        "random_number = random.randint(1,100)\n",
        "print(\"Random Number are :- \", random_number)"
      ],
      "metadata": {
        "colab": {
          "base_uri": "https://localhost:8080/"
        },
        "id": "nk8mBw7htXKM",
        "outputId": "b3483101-0daf-4836-d122-a3eb6b04fcf6"
      },
      "execution_count": 20,
      "outputs": [
        {
          "output_type": "stream",
          "name": "stdout",
          "text": [
            "Random Number are :-  74\n"
          ]
        }
      ]
    },
    {
      "cell_type": "code",
      "source": [
        ""
      ],
      "metadata": {
        "id": "Hvw_gcsts5_G"
      },
      "execution_count": null,
      "outputs": []
    }
  ]
}